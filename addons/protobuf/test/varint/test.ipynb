{
 "cells": [
  {
   "cell_type": "code",
   "execution_count": 2,
   "metadata": {},
   "outputs": [],
   "source": [
    "GODOT_PATH = \"path-to-your-godot.exe\""
   ]
  },
  {
   "cell_type": "code",
   "execution_count": null,
   "metadata": {},
   "outputs": [],
   "source": [
    "!pip install protobuf"
   ]
  },
  {
   "cell_type": "code",
   "execution_count": 4,
   "metadata": {},
   "outputs": [],
   "source": [
    "!protoc --python_out=. varint.proto"
   ]
  },
  {
   "cell_type": "code",
   "execution_count": 5,
   "metadata": {},
   "outputs": [],
   "source": [
    "import varint_pb2\n",
    "import base64\n",
    "import subprocess\n",
    "from pydoc import locate"
   ]
  },
  {
   "cell_type": "code",
   "execution_count": 6,
   "metadata": {},
   "outputs": [],
   "source": [
    "def test(typename, number):\n",
    "    proto = locate('varint_pb2.' + typename)()\n",
    "    proto.n = number\n",
    "    bytes = proto.SerializeToString()\n",
    "    encoded = base64.b64encode(bytes)\n",
    "\n",
    "    subprocess.run([GODOT_PATH, '-s', 'varint_test.gd', '--', typename, str(number), 'out.txt'])\n",
    "\n",
    "    with open('out.txt', 'rb') as fp:\n",
    "        godot_result = fp.read()\n",
    "\n",
    "        if godot_result == encoded:\n",
    "            print(typename, str(number), 'ok')\n",
    "        else:\n",
    "            print('ERROR: Godot and Python do not match')\n",
    "            print('GODOT: ', godot_result)\n",
    "            print('Python:', encoded)"
   ]
  },
  {
   "cell_type": "code",
   "execution_count": null,
   "metadata": {},
   "outputs": [],
   "source": [
    "test('Int64', 0)\n",
    "test('Int64', 1)\n",
    "test('Int64', -1)\n",
    "test('Int64', 255)\n",
    "test('Int64', -255)\n",
    "test('Int64', 2147483647)\n",
    "test('Int64', -2147483648)\n",
    "test('Int64', 9223372036854775807)\n",
    "test('Int64', -9223372036854775808)\n",
    "\n",
    "test('Int32', -1)\n",
    "test('Int32', 2147483647)\n",
    "test('Int32', -2147483648)\n",
    "\n",
    "test('Sint64', -1)\n",
    "test('Sint64', 9223372036854775807)\n",
    "test('Sint64', -9223372036854775808)\n"
   ]
  },
  {
   "cell_type": "code",
   "execution_count": null,
   "metadata": {},
   "outputs": [],
   "source": []
  }
 ],
 "metadata": {
  "kernelspec": {
   "display_name": "Python 3",
   "language": "python",
   "name": "python3"
  },
  "language_info": {
   "codemirror_mode": {
    "name": "ipython",
    "version": 3
   },
   "file_extension": ".py",
   "mimetype": "text/x-python",
   "name": "python",
   "nbconvert_exporter": "python",
   "pygments_lexer": "ipython3",
   "version": "3.11.0"
  }
 },
 "nbformat": 4,
 "nbformat_minor": 2
}
